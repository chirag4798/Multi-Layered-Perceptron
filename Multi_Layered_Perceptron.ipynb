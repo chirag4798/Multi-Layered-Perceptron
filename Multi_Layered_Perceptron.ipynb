{
 "cells": [
  {
   "cell_type": "code",
   "execution_count": 1,
   "metadata": {},
   "outputs": [],
   "source": [
    "from utility_functions import *\n",
    "from Multi_Layered_Perceptron import *\n",
    "%matplotlib inline"
   ]
  },
  {
   "cell_type": "code",
   "execution_count": 93,
   "metadata": {},
   "outputs": [
    {
     "name": "stderr",
     "output_type": "stream",
     "text": [
      "\r",
      "  0%|                                                                                           | 0/15 [00:00<?, ?it/s]"
     ]
    },
    {
     "name": "stdout",
     "output_type": "stream",
     "text": [
      "Preprocessing the MNIST Data...\n",
      "Normalizing the MNIST Data...\n",
      "Creating the architecture for Neural Network...\n",
      "Training the Neural Network...\n"
     ]
    },
    {
     "name": "stderr",
     "output_type": "stream",
     "text": [
      "100%|██████████████████████████████████████████████████████████████████████████████████| 15/15 [08:25<00:00, 33.68s/it]\n"
     ]
    },
    {
     "data": {
      "image/png": "[encoded data removed]",
      "text/plain": [
       "<Figure size 432x288 with 1 Axes>"
      ]
     },
     "metadata": {
      "needs_background": "light"
     },
     "output_type": "display_data"
    },
    {
     "name": "stdout",
     "output_type": "stream",
     "text": [
      "Performance Evaluation\n",
      "Training accuracy \t: 0.1124\n",
      "Testing accuracy \t: 0.1135\n"
     ]
    }
   ],
   "source": [
    "# Benchmarking the perfromance of our MLP on MNIST dataset.\n",
    "print('Preprocessing the MNIST Data...')\n",
    "df_train, X_train, Y_train = preprocess_data_mnist('mnist_train.csv')\n",
    "df_test, X_test, Y_test = preprocess_data_mnist('mnist_test.csv')\n",
    "print('Normalizing the MNIST Data...')\n",
    "X_train, train_means, train_stds = normalize_train_data(X_train)\n",
    "X_test = normalize_test_data(X_test, train_means, train_stds)\n",
    "\n",
    "    \n",
    "# create a Multilayer Perceptron with default parameters\n",
    "print('Creating the architecture for Neural Network...')\n",
    "inputs = 784; layers = [512, 128, 16]; output = 10\n",
    "mlp = Multi_Layered_Perceptron(n_inputs=inputs, hidden_layers=layers, n_outputs=output, activation_function='sigmoid')\n",
    "\n",
    "# training the network\n",
    "print('Training the Neural Network...')\n",
    "mlp.BatchSGD(X_train.values, Y_train.values, learning_rate=0.0001, epochs=15, batchsize=1000)\n",
    "mlp.plot_loss()\n",
    "\n",
    "# Evaluate Performance\n",
    "print(\"Performance Evaluation\")\n",
    "y_pred_train_classes = mlp.predict(X_train.values)\n",
    "y_pred_test_classes = mlp.predict(X_test.values)\n",
    "print('Training accuracy \\t:',  round(accuracy(Y_train.values, y_pred_train_classes), 4))\n",
    "print('Testing accuracy \\t:', round(accuracy(Y_test.values, y_pred_test_classes), 4))"
   ]
  }
 ],
 "metadata": {
  "kernelspec": {
   "display_name": "personal",
   "language": "python",
   "name": "personal"
  },
  "language_info": {
   "codemirror_mode": {
    "name": "ipython",
    "version": 3
   },
   "file_extension": ".py",
   "mimetype": "text/x-python",
   "name": "python",
   "nbconvert_exporter": "python",
   "pygments_lexer": "ipython3",
   "version": "3.7.6"
  }
 },
 "nbformat": 4,
 "nbformat_minor": 4
}
