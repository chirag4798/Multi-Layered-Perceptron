{
 "cells": [
  {
   "cell_type": "code",
   "execution_count": 1,
   "metadata": {},
   "outputs": [],
   "source": [
    "from utility_functions import *\n",
    "from Multi_Layered_Perceptron import *\n",
    "%matplotlib inline"
   ]
  },
  {
   "cell_type": "markdown",
   "metadata": {},
   "source": [
    "## MNIST Dataset\n",
    "\n",
    "- The MNIST database of handwritten digits, it has a training set of 60,000 examples, and a test set of 10,000 examples. It is a subset of a larger set available from NIST. The digits have been size-normalized and centered in a fixed-size image.\n",
    "\n",
    "- It is a good database for people who want to try learning techniques and pattern recognition methods on real-world data while spending minimal efforts on preprocessing and formatting.\n",
    "\n",
    "- The original black and white (bilevel) images from NIST were size normalized to fit in a 20x20 pixel box while preserving their aspect ratio. The resulting images contain grey levels as a result of the anti-aliasing technique used by the normalization algorithm. the images were centered in a 28x28 image by computing the center of mass of the pixels, and translating the image so as to position this point at the center of the 28x28 field.\n",
    "\n",
    "- [Source](http://yann.lecun.com/exdb/mnist/)"
   ]
  },
  {
   "cell_type": "markdown",
   "metadata": {},
   "source": [
    "- Sample Image from the dataset"
   ]
  },
  {
   "cell_type": "code",
   "execution_count": 2,
   "metadata": {},
   "outputs": [
    {
     "name": "stdout",
     "output_type": "stream",
     "text": [
      "Preprocessing the MNIST Data...\n"
     ]
    },
    {
     "data": {
      "text/plain": [
       "<matplotlib.axes._subplots.AxesSubplot at 0x1accd78d0c8>"
      ]
     },
     "execution_count": 2,
     "metadata": {},
     "output_type": "execute_result"
    },
    {
     "data": {
      "image/png": "[encoded data removed]",
      "text/plain": [
       "<Figure size 432x288 with 1 Axes>"
      ]
     },
     "metadata": {},
     "output_type": "display_data"
    }
   ],
   "source": [
    "import seaborn as sns\n",
    "# Benchmarking the perfromance of our MLP on MNIST dataset.\n",
    "print('Preprocessing the MNIST Data...')\n",
    "df_train, X_train, Y_train = preprocess_data_mnist('mnist_train.csv')\n",
    "df_test, X_test, Y_test = preprocess_data_mnist('mnist_test.csv')\n",
    "sns.heatmap(X_train.values[10].reshape(28,28), cbar=False, cmap='Greys', xticklabels=False, yticklabels=False)"
   ]
  },
  {
   "cell_type": "code",
   "execution_count": 3,
   "metadata": {},
   "outputs": [
    {
     "name": "stdout",
     "output_type": "stream",
     "text": [
      "Normalizing the MNIST Data...\n",
      "Done!\n"
     ]
    }
   ],
   "source": [
    "print('Normalizing the MNIST Data...')\n",
    "X_train, train_means, train_stds = normalize_train_data(X_train)\n",
    "X_test = normalize_test_data(X_test, train_means, train_stds)\n",
    "print('Done!')"
   ]
  },
  {
   "cell_type": "markdown",
   "metadata": {},
   "source": [
    "### Network Architecture\n",
    "\n",
    "<img src=\"https://i.imgur.com/R1O3e8U.png\">"
   ]
  },
  {
   "cell_type": "code",
   "execution_count": 5,
   "metadata": {},
   "outputs": [
    {
     "name": "stdout",
     "output_type": "stream",
     "text": [
      "Creating the architecture for Neural Network...\n",
      "Done!\n"
     ]
    }
   ],
   "source": [
    "# create a Multilayer Perceptron with default parameters\n",
    "print('Creating the architecture for Neural Network...')\n",
    "inputs = 784; layers = [32, 16]; output = 10\n",
    "mlp = Multi_Layered_Perceptron(n_inputs=inputs, hidden_layers=layers, n_outputs=output, activation_function='sigmoid')\n",
    "print('Done!')"
   ]
  },
  {
   "cell_type": "code",
   "execution_count": 4,
   "metadata": {},
   "outputs": [],
   "source": [
    "# Randomly sampling 10k indices from 60k datapoints to train the model\n",
    "import random\n",
    "sample = random.sample(range(60000), 10000)"
   ]
  },
  {
   "cell_type": "code",
   "execution_count": 6,
   "metadata": {},
   "outputs": [
    {
     "name": "stdout",
     "output_type": "stream",
     "text": [
      "Training the Neural Network...\n"
     ]
    },
    {
     "name": "stderr",
     "output_type": "stream",
     "text": [
      "100%|█████████████████████████████████████████████████████████████████████████████████████████████████████████████████████████████████████████████████████████████████████████████████████████████████████| 100/100 [09:44<00:00,  5.84s/it]\n"
     ]
    },
    {
     "data": {
      "image/png": "[encoded data removed]",
      "text/plain": [
       "<Figure size 432x288 with 1 Axes>"
      ]
     },
     "metadata": {
      "needs_background": "light"
     },
     "output_type": "display_data"
    }
   ],
   "source": [
    "# training the network\n",
    "print('Training the Neural Network...')\n",
    "mlp.GradientDescent(X_train.values[sample], Y_train.values[sample], learning_rate=0.01, epochs=100,  beta1=0.9, beta2=0.999)\n",
    "mlp.plot_loss()"
   ]
  },
  {
   "cell_type": "code",
   "execution_count": 7,
   "metadata": {},
   "outputs": [
    {
     "name": "stdout",
     "output_type": "stream",
     "text": [
      "Performance Evaluation\n",
      "Training accuracy \t: 0.85\n",
      "Testing accuracy \t: 0.8721\n"
     ]
    }
   ],
   "source": [
    "# Evaluate Performance\n",
    "print(\"Performance Evaluation\")\n",
    "y_pred_train_classes = mlp.predict(X_train.values[sample])\n",
    "y_pred_test_classes = mlp.predict(X_test.values)\n",
    "print('Training accuracy \\t:',  round(accuracy(Y_train.values, y_pred_train_classes), 4))\n",
    "print('Testing accuracy \\t:', round(accuracy(Y_test.values, y_pred_test_classes), 4))"
   ]
  }
 ],
 "metadata": {
  "kernelspec": {
   "display_name": "personal",
   "language": "python",
   "name": "personal"
  },
  "language_info": {
   "codemirror_mode": {
    "name": "ipython",
    "version": 3
   },
   "file_extension": ".py",
   "mimetype": "text/x-python",
   "name": "python",
   "nbconvert_exporter": "python",
   "pygments_lexer": "ipython3",
   "version": "3.7.6"
  }
 },
 "nbformat": 4,
 "nbformat_minor": 4
}
